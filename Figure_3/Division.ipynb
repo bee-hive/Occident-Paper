{
 "cells": [
  {
   "cell_type": "code",
   "execution_count": 1,
   "id": "91a6a747-b33d-418d-acd6-fd0e4e3e2590",
   "metadata": {},
   "outputs": [],
   "source": [
    "import numpy as np\n",
    "import pandas as pd\n",
    "from occident.utils import load_deepcell_object\n",
    "from occident.division import compute_T_cell_density_vs_cancer_divisions\n",
    "import matplotlib.pyplot as plt"
   ]
  },
  {
   "cell_type": "code",
   "execution_count": null,
   "id": "94af974c-5d8b-475c-8ef1-bd0f639c8fe6",
   "metadata": {},
   "outputs": [],
   "source": [
    "from scipy.spatial.distance import cdist\n",
    "from itertools import groupby"
   ]
  },
  {
   "cell_type": "markdown",
   "id": "35d5e055-4ade-420e-b329-47e838f17d7a",
   "metadata": {},
   "source": [
    "## Set preferences"
   ]
  },
  {
   "cell_type": "code",
   "execution_count": null,
   "id": "a5c2d26b-51bf-4539-80d8-fc425061f4a0",
   "metadata": {},
   "outputs": [],
   "source": [
    "conditions = ['Safe Harbor KO', 'RASA2 KO', 'CUL5 KO']\n",
    "colors = {'Safe Harbor KO': '#a9a9a9', \n",
    "          'RASA2 KO': '#800000',\n",
    "          'CUL5 KO': '#000075'}\n"
   ]
  },
  {
   "cell_type": "code",
   "execution_count": 4,
   "id": "6b973a59-2a12-4bed-b975-dfb5c5a3a29a",
   "metadata": {},
   "outputs": [],
   "source": [
    "SH = ['B3', 'B4', 'B5', 'B6']\n",
    "RASA2 = ['E3', 'E4', 'E5', 'E6']\n",
    "CUL5 = ['B7', 'B8', 'B9', 'B10']"
   ]
  },
  {
   "cell_type": "code",
   "execution_count": null,
   "id": "ba77d28e",
   "metadata": {},
   "outputs": [],
   "source": [
    "data_dir = '/gladstone/engelhardt/lab/MarsonLabIncucyteData/AnalysisFiles/CarnevaleRepStim/updated_full'"
   ]
  },
  {
   "cell_type": "markdown",
   "id": "e0b858d5-892c-432d-be04-1c3d9d11aec5",
   "metadata": {},
   "source": [
    "### Helper functions"
   ]
  },
  {
   "cell_type": "code",
   "execution_count": 6,
   "id": "51c63b09-5c95-4c34-a096-7fd91580412f",
   "metadata": {},
   "outputs": [],
   "source": [
    "\n",
    "def compte_cell_density_wrapper(well, len_scale=np.sqrt(900)):\n",
    "    \"\"\"\n",
    "    Given a well, returns the average local t cell density for each cancer cell track and if the cell divided. \n",
    "    This is a wrapper function for compute_T_cell_density_vs_cancer_divisions in the occident library.\n",
    "\n",
    "    Parameters\n",
    "    ----------\n",
    "    well : str\n",
    "        The well to process.\n",
    "    len_scale : float, optional\n",
    "        The length scale for the RBF kernel. The default is np.sqrt(900).\n",
    "\n",
    "    Returns\n",
    "    -------\n",
    "    x : list\n",
    "        The average local T cell density for each cancer cell track.\n",
    "    y : list\n",
    "        A list indicating if the cell divided (1) or not (0).\n",
    "    \"\"\"\n",
    "    \n",
    "    \n",
    "    # Load the lineage tree and centroid arrays for the given well\n",
    "    div_df = pd.read_pickle(data_dir + '/with_nuclei/' + well + '_div.pkl')\n",
    "    tcenters = np.load(data_dir + '/centroid-arrays/0_to_350/' + well + '-T-cells.npy')\n",
    "    cncenters = np.load(data_dir + '/centroid-arrays/0_to_350/' + well + '-nuclei.npy')\n",
    "\n",
    "    # call the occident function to compute the T cell density vs cancer divisions\n",
    "    x, y = compute_T_cell_density_vs_cancer_divisions(div_df, tcenters, cncenters, len_scale=len_scale, max_time=350)\n",
    "\n",
    "    return x, y"
   ]
  },
  {
   "cell_type": "code",
   "execution_count": 7,
   "id": "e501135b-90a8-458e-b910-e3b33398424f",
   "metadata": {},
   "outputs": [],
   "source": [
    "sh_s = [compte_cell_density_wrapper(well) for well in SH]"
   ]
  },
  {
   "cell_type": "code",
   "execution_count": 8,
   "id": "6e68b195-04e8-4698-aae2-1e32e73418d0",
   "metadata": {},
   "outputs": [],
   "source": [
    "rasa_s = [compte_cell_density_wrapper(well) for well in RASA2]"
   ]
  },
  {
   "cell_type": "code",
   "execution_count": 9,
   "id": "51fb18af-7e9e-4514-8598-096eeea9f9fc",
   "metadata": {},
   "outputs": [],
   "source": [
    "cul_s = [compte_cell_density_wrapper(well) for well in CUL5]"
   ]
  },
  {
   "cell_type": "code",
   "execution_count": 10,
   "id": "ed8bc96f-a44b-4bf1-83a6-da40d8015eec",
   "metadata": {},
   "outputs": [],
   "source": [
    "sh_x = np.concatenate([sh_s[i][0] for i in range(4)])\n",
    "sh_y = np.concatenate([sh_s[i][1] for i in range(4)])"
   ]
  },
  {
   "cell_type": "code",
   "execution_count": 11,
   "id": "61f8d40b-7bad-4232-9678-f04247b910c2",
   "metadata": {},
   "outputs": [],
   "source": [
    "rasa_x = np.concatenate([rasa_s[i][0] for i in range(4)])\n",
    "rasa_y = np.concatenate([rasa_s[i][1] for i in range(4)])"
   ]
  },
  {
   "cell_type": "code",
   "execution_count": 12,
   "id": "d6366201-0301-4e47-90c6-fc7f8e11145b",
   "metadata": {},
   "outputs": [],
   "source": [
    "cul_x = np.concatenate([cul_s[i][0] for i in range(4)])\n",
    "cul_y = np.concatenate([cul_s[i][1] for i in range(4)])"
   ]
  },
  {
   "cell_type": "code",
   "execution_count": 13,
   "id": "09c65a5e-1f9a-41c4-9bdc-6921c8d96506",
   "metadata": {},
   "outputs": [
    {
     "data": {
      "image/png": "[encoded data removed]",
      "text/plain": [
       "<Figure size 640x480 with 1 Axes>"
      ]
     },
     "metadata": {},
     "output_type": "display_data"
    }
   ],
   "source": [
    "plt.scatter(sh_x, sh_y, label = 'Safe Harbor KO', c = colors['Safe Harbor KO'], s = 5)\n",
    "plt.scatter(rasa_x, rasa_y, label = 'RASA2 KO', c = colors['RASA2 KO'], s = 5)\n",
    "plt.scatter(cul_x, cul_y, label = 'CUL5 KO', c = colors['CUL5 KO'], s = 5)\n",
    "plt.show()"
   ]
  },
  {
   "cell_type": "markdown",
   "id": "ec43a66d-5fc3-4e03-83ce-219a27f0c99d",
   "metadata": {},
   "source": [
    "### Fit model for each condition"
   ]
  },
  {
   "cell_type": "code",
   "execution_count": 14,
   "id": "2b7a185c-6bbb-444f-87cf-fda6fd195ed5",
   "metadata": {},
   "outputs": [],
   "source": [
    "import statsmodels.api as sm"
   ]
  },
  {
   "cell_type": "code",
   "execution_count": 15,
   "id": "12be7899-6e7f-432b-a9f5-4d85191eb253",
   "metadata": {},
   "outputs": [],
   "source": [
    "sh_logit = sm.Logit(sh_y, sm.add_constant(sh_x))"
   ]
  },
  {
   "cell_type": "code",
   "execution_count": 16,
   "id": "2ef571b5-b04e-4e84-ad4a-432043853c49",
   "metadata": {},
   "outputs": [
    {
     "name": "stdout",
     "output_type": "stream",
     "text": [
      "Optimization terminated successfully.\n",
      "         Current function value: 0.113508\n",
      "         Iterations 8\n"
     ]
    }
   ],
   "source": [
    "sh_res = sh_logit.fit()"
   ]
  },
  {
   "cell_type": "code",
   "execution_count": 17,
   "id": "8928aa0d-4045-4730-9e29-2d7d357b0472",
   "metadata": {},
   "outputs": [
    {
     "name": "stdout",
     "output_type": "stream",
     "text": [
      "                           Logit Regression Results                           \n",
      "==============================================================================\n",
      "Dep. Variable:                      y   No. Observations:                52002\n",
      "Model:                          Logit   Df Residuals:                    52000\n",
      "Method:                           MLE   Df Model:                            1\n",
      "Date:                Thu, 08 May 2025   Pseudo R-squ.:               0.0005941\n",
      "Time:                        11:19:18   Log-Likelihood:                -5902.6\n",
      "converged:                       True   LL-Null:                       -5906.1\n",
      "Covariance Type:            nonrobust   LLR p-value:                  0.008069\n",
      "==============================================================================\n",
      "                 coef    std err          z      P>|z|      [0.025      0.975]\n",
      "------------------------------------------------------------------------------\n",
      "const         -3.6080      0.045    -80.034      0.000      -3.696      -3.520\n",
      "x1            -0.1565      0.060     -2.599      0.009      -0.275      -0.039\n",
      "==============================================================================\n"
     ]
    }
   ],
   "source": [
    "print(sh_res.summary())"
   ]
  },
  {
   "cell_type": "code",
   "execution_count": 18,
   "id": "06d99b8d-3bd4-44c7-ac00-c720f0a86acd",
   "metadata": {},
   "outputs": [
    {
     "name": "stdout",
     "output_type": "stream",
     "text": [
      "Optimization terminated successfully.\n",
      "         Current function value: 0.090988\n",
      "         Iterations 8\n",
      "                           Logit Regression Results                           \n",
      "==============================================================================\n",
      "Dep. Variable:                      y   No. Observations:                69335\n",
      "Model:                          Logit   Df Residuals:                    69333\n",
      "Method:                           MLE   Df Model:                            1\n",
      "Date:                Thu, 08 May 2025   Pseudo R-squ.:                0.005913\n",
      "Time:                        11:19:18   Log-Likelihood:                -6308.6\n",
      "converged:                       True   LL-Null:                       -6346.2\n",
      "Covariance Type:            nonrobust   LLR p-value:                 4.591e-18\n",
      "==============================================================================\n",
      "                 coef    std err          z      P>|z|      [0.025      0.975]\n",
      "------------------------------------------------------------------------------\n",
      "const         -3.6582      0.046    -80.109      0.000      -3.748      -3.569\n",
      "x1            -0.3711      0.045     -8.165      0.000      -0.460      -0.282\n",
      "==============================================================================\n"
     ]
    }
   ],
   "source": [
    "rasa_logit = sm.Logit(rasa_y, sm.add_constant(rasa_x))\n",
    "rasa_res = rasa_logit.fit()\n",
    "print(rasa_res.summary())"
   ]
  },
  {
   "cell_type": "code",
   "execution_count": 19,
   "id": "646e1622-e36a-4d1e-8892-e9c1c97f7c61",
   "metadata": {},
   "outputs": [
    {
     "name": "stdout",
     "output_type": "stream",
     "text": [
      "Optimization terminated successfully.\n",
      "         Current function value: 0.082709\n",
      "         Iterations 9\n",
      "                           Logit Regression Results                           \n",
      "==============================================================================\n",
      "Dep. Variable:                      y   No. Observations:                65650\n",
      "Model:                          Logit   Df Residuals:                    65648\n",
      "Method:                           MLE   Df Model:                            1\n",
      "Date:                Thu, 08 May 2025   Pseudo R-squ.:                0.007376\n",
      "Time:                        11:19:18   Log-Likelihood:                -5429.8\n",
      "converged:                       True   LL-Null:                       -5470.2\n",
      "Covariance Type:            nonrobust   LLR p-value:                 2.630e-19\n",
      "==============================================================================\n",
      "                 coef    std err          z      P>|z|      [0.025      0.975]\n",
      "------------------------------------------------------------------------------\n",
      "const         -3.6986      0.053    -70.031      0.000      -3.802      -3.595\n",
      "x1            -0.4196      0.050     -8.476      0.000      -0.517      -0.323\n",
      "==============================================================================\n"
     ]
    }
   ],
   "source": [
    "cul_logit = sm.Logit(cul_y, sm.add_constant(cul_x))\n",
    "cul_res = cul_logit.fit()\n",
    "print(cul_res.summary())"
   ]
  },
  {
   "cell_type": "code",
   "execution_count": null,
   "id": "a0818be4-98c9-4205-9826-21d22c9a0ca4",
   "metadata": {},
   "outputs": [],
   "source": []
  },
  {
   "cell_type": "code",
   "execution_count": null,
   "id": "2090573f-73e8-49be-b26c-7eae3233597a",
   "metadata": {},
   "outputs": [],
   "source": []
  },
  {
   "cell_type": "code",
   "execution_count": null,
   "id": "49e7be6b-73ca-4b8b-bfac-df96a1f6ca0f",
   "metadata": {},
   "outputs": [],
   "source": []
  },
  {
   "cell_type": "code",
   "execution_count": null,
   "id": "45ba1fcc-4a23-4a6d-b3b6-226b7b1e8832",
   "metadata": {},
   "outputs": [],
   "source": []
  },
  {
   "cell_type": "markdown",
   "id": "47bf42db-5a50-469f-bfc1-a48ead9e1b12",
   "metadata": {},
   "source": [
    "### Plot logistic regression fit"
   ]
  },
  {
   "cell_type": "code",
   "execution_count": null,
   "id": "501fdc11-2ca7-47e7-aa3b-5f20dc2b426d",
   "metadata": {},
   "outputs": [],
   "source": [
    "bins = np.linspace(-1,1,9)\n",
    "bar_x = np.array([0.5 * (bins[i] + bins[i+1]) for i in range(len(bins) - 1)])"
   ]
  },
  {
   "cell_type": "code",
   "execution_count": 21,
   "id": "7e6cb341-7afe-49b8-83e6-775409d0c32b",
   "metadata": {},
   "outputs": [],
   "source": [
    "rasa_bin_y = np.zeros((len(bins) - 1))\n",
    "cul_bin_y = np.zeros((len(bins) - 1))\n",
    "sh_bin_y = np.zeros((len(bins) - 1))"
   ]
  },
  {
   "cell_type": "code",
   "execution_count": null,
   "id": "966871d0-5196-49d0-99a4-4af9ea0a9742",
   "metadata": {},
   "outputs": [],
   "source": [
    "width = bar_x[1] - bar_x[0]"
   ]
  },
  {
   "cell_type": "code",
   "execution_count": null,
   "id": "ce6201dc-1e22-4e55-b287-e81765e8aa17",
   "metadata": {},
   "outputs": [],
   "source": []
  },
  {
   "cell_type": "code",
   "execution_count": 23,
   "id": "d1e9332a-7a12-41f4-9eba-74ce88228d01",
   "metadata": {},
   "outputs": [],
   "source": [
    "for i in range(len(bins) - 1):\n",
    "    low_lim = bins[i]\n",
    "    upper_lim = bins[i+1]\n",
    "    mask = np.logical_and(rasa_x > 10**low_lim, rasa_x < 10**upper_lim)\n",
    "    rasa_pct = np.sum(rasa_y[mask])/np.sum(mask)\n",
    "    rasa_bin_y[i] = rasa_pct\n",
    "    mask = np.logical_and(cul_x > 10**low_lim, cul_x < 10**upper_lim)\n",
    "    cul_bin_y[i] = np.sum(cul_y[mask])/np.sum(mask)\n",
    "    mask = np.logical_and(sh_x > 10**low_lim, sh_x < 10**upper_lim)\n",
    "    sh_bin_y[i] = np.sum(sh_y[mask])/np.sum(mask)"
   ]
  },
  {
   "cell_type": "code",
   "execution_count": 24,
   "id": "e2f29ba1-8e6d-4062-a647-dd5fa2ce9378",
   "metadata": {},
   "outputs": [
    {
     "data": {
      "image/png": "[encoded data removed]",
      "text/plain": [
       "<Figure size 1000x1000 with 1 Axes>"
      ]
     },
     "metadata": {},
     "output_type": "display_data"
    }
   ],
   "source": [
    "#plt.scatter(sh_x, sh_y, label = 'Safe Harbor KO', c = colors['Safe Harbor KO'], s = 5)\n",
    "plot_x = np.linspace(0.1, 10, 1000)\n",
    "plot_sh = sh_res.predict(sm.add_constant(plot_x))\n",
    "plot_rasa = rasa_res.predict(sm.add_constant(plot_x))\n",
    "plot_cul = cul_res.predict(sm.add_constant(plot_x))\n",
    "\n",
    "\n",
    "fig, ax = plt.subplots(1,1,figsize = (10,10))\n",
    "ax.plot(np.log10(plot_x), 100 * plot_sh, c = colors['Safe Harbor KO'], label = 'Logit Fit')\n",
    "ax.plot(np.log10(plot_x), 100 * plot_rasa, c = colors['RASA2 KO'])\n",
    "ax.plot(np.log10(plot_x), 100 * plot_cul, c = colors['CUL5 KO'])\n",
    "\n",
    "\n",
    "ax.bar(bins[:-1], 100 * rasa_bin_y, color = colors['RASA2 KO'], alpha = 0.3, width = width, align = 'edge')\n",
    "ax.bar(bins[:-1], 100 * cul_bin_y, color = colors['CUL5 KO'], alpha = 0.3, width = width, align = 'edge')\n",
    "ax.bar(bins[:-1], 100 * sh_bin_y, color = colors['Safe Harbor KO'], alpha = 0.3, width = width, align = 'edge',\n",
    "       label = 'Empirical')\n",
    "\n",
    "ax.legend()\n",
    "\n",
    "#plt.scatter(rasa_x, rasa_y, label = 'RASA2 KO', c = colors['RASA2 KO'], s = 5)\n",
    "#plt.scatter(cul_x, cul_y, label = 'CUL5 KO', c = colors['CUL5 KO'], s = 5)\n",
    "ax.set_xlabel('log$_{10}$ Local T-Cell Density', fontsize = 16)\n",
    "ax.set_ylabel('Probability (%) of Cancer Division', fontsize = 16)\n",
    "#ax.set_xscale('log')\n",
    "ax.spines['top'].set_visible(False)\n",
    "ax.spines['right'].set_visible(False)\n",
    "#ax.set_yscale('log')\n",
    "#plt.savefig('./figs/fig2/division_spatial_effect_new.pdf', transparent = True)\n",
    "plt.show()"
   ]
  },
  {
   "cell_type": "markdown",
   "id": "04ea1b29-dbbe-4211-8ca4-fa4b1c0e4f68",
   "metadata": {},
   "source": [
    "### Combine each pair of two groups to test difference in slopes"
   ]
  },
  {
   "cell_type": "code",
   "execution_count": null,
   "id": "84449cd7-7508-449a-b597-d4d3c6f22b55",
   "metadata": {},
   "outputs": [],
   "source": [
    "rasa_sh_y = np.concatenate((sh_y, rasa_y))"
   ]
  },
  {
   "cell_type": "code",
   "execution_count": 26,
   "id": "44b6e79c-6dc3-4d20-9082-814642061f7f",
   "metadata": {},
   "outputs": [],
   "source": [
    "rasa_sh_x = np.concatenate((sh_x, rasa_x))"
   ]
  },
  {
   "cell_type": "code",
   "execution_count": 27,
   "id": "c108294e-3a31-4eb5-8e6d-ab2384d17c62",
   "metadata": {},
   "outputs": [],
   "source": [
    "rasa_sh_group = np.concatenate((np.zeros(sh_x.shape), np.ones(rasa_x.shape)))"
   ]
  },
  {
   "cell_type": "code",
   "execution_count": 28,
   "id": "a74a2a50-4d13-4f9e-af37-d36f1f49b5be",
   "metadata": {},
   "outputs": [],
   "source": [
    "rasa_sh_int = np.multiply(rasa_sh_x, rasa_sh_group)"
   ]
  },
  {
   "cell_type": "code",
   "execution_count": null,
   "id": "774945a5-4508-44e6-ae40-1add8fa17cde",
   "metadata": {},
   "outputs": [],
   "source": [
    "X = np.vstack((rasa_sh_x, rasa_sh_group, rasa_sh_int, np.ones((rasa_sh_int.shape)))).T"
   ]
  },
  {
   "cell_type": "code",
   "execution_count": 30,
   "id": "7112e45f-81fd-4861-876c-40ac6bb43e6f",
   "metadata": {},
   "outputs": [
    {
     "name": "stdout",
     "output_type": "stream",
     "text": [
      "Optimization terminated successfully.\n",
      "         Current function value: 0.100639\n",
      "         Iterations 8\n",
      "                           Logit Regression Results                           \n",
      "==============================================================================\n",
      "Dep. Variable:                      y   No. Observations:               121337\n",
      "Model:                          Logit   Df Residuals:                   121333\n",
      "Method:                           MLE   Df Model:                            3\n",
      "Date:                Thu, 08 May 2025   Pseudo R-squ.:                0.005287\n",
      "Time:                        11:19:19   Log-Likelihood:                -12211.\n",
      "converged:                       True   LL-Null:                       -12276.\n",
      "Covariance Type:            nonrobust   LLR p-value:                 5.953e-28\n",
      "==============================================================================\n",
      "                 coef    std err          z      P>|z|      [0.025      0.975]\n",
      "------------------------------------------------------------------------------\n",
      "x1            -0.1565      0.060     -2.599      0.009      -0.275      -0.039\n",
      "x2            -0.0502      0.064     -0.782      0.434      -0.176       0.076\n",
      "x3            -0.2146      0.075     -2.845      0.004      -0.362      -0.067\n",
      "const         -3.6080      0.045    -80.034      0.000      -3.696      -3.520\n",
      "==============================================================================\n"
     ]
    }
   ],
   "source": [
    "rasa_sh_mod = sm.Logit(rasa_sh_y, X)\n",
    "rasa_sh_res = rasa_sh_mod.fit()\n",
    "print(rasa_sh_res.summary())"
   ]
  },
  {
   "cell_type": "code",
   "execution_count": null,
   "id": "f5880ab8-4a0f-4feb-a0d2-a3f6367009f8",
   "metadata": {},
   "outputs": [
    {
     "data": {
      "text/plain": [
       "array([0.00933621, 0.4343213 , 0.00444766, 0.        ])"
      ]
     },
     "execution_count": 31,
     "metadata": {},
     "output_type": "execute_result"
    }
   ],
   "source": [
    "rasa_sh_res.pvalues"
   ]
  },
  {
   "cell_type": "code",
   "execution_count": 32,
   "id": "5afffc80-8248-40ab-936c-25bd4bae3ce3",
   "metadata": {},
   "outputs": [
    {
     "name": "stdout",
     "output_type": "stream",
     "text": [
      "Optimization terminated successfully.\n",
      "         Current function value: 0.096322\n",
      "         Iterations 9\n",
      "                           Logit Regression Results                           \n",
      "==============================================================================\n",
      "Dep. Variable:                      y   No. Observations:               117652\n",
      "Model:                          Logit   Df Residuals:                   117648\n",
      "Method:                           MLE   Df Model:                            3\n",
      "Date:                Thu, 08 May 2025   Pseudo R-squ.:                0.007778\n",
      "Time:                        11:19:19   Log-Likelihood:                -11332.\n",
      "converged:                       True   LL-Null:                       -11421.\n",
      "Covariance Type:            nonrobust   LLR p-value:                 2.798e-38\n",
      "==============================================================================\n",
      "                 coef    std err          z      P>|z|      [0.025      0.975]\n",
      "------------------------------------------------------------------------------\n",
      "x1            -0.1565      0.060     -2.599      0.009      -0.275      -0.039\n",
      "x2            -0.0906      0.069     -1.304      0.192      -0.227       0.046\n",
      "x3            -0.2631      0.078     -3.375      0.001      -0.416      -0.110\n",
      "const         -3.6080      0.045    -80.034      0.000      -3.696      -3.520\n",
      "==============================================================================\n"
     ]
    }
   ],
   "source": [
    "cul_sh_y = np.concatenate((sh_y, cul_y))\n",
    "cul_sh_x = np.concatenate((sh_x, cul_x))\n",
    "cul_sh_group = np.concatenate((np.zeros(sh_x.shape), np.ones(cul_x.shape)))\n",
    "cul_sh_int = np.multiply(cul_sh_x, cul_sh_group)\n",
    "X = np.vstack((cul_sh_x, cul_sh_group, cul_sh_int, np.ones((cul_sh_int.shape)))).T\n",
    "cul_sh_mod = sm.Logit(cul_sh_y, X)\n",
    "cul_sh_res = cul_sh_mod.fit()\n",
    "print(cul_sh_res.summary())"
   ]
  },
  {
   "cell_type": "code",
   "execution_count": 33,
   "id": "d0ab9747-cca2-4340-b6e0-8d64ad463f8b",
   "metadata": {},
   "outputs": [
    {
     "data": {
      "text/plain": [
       "array([0.00933621, 0.19217571, 0.00073838, 0.        ])"
      ]
     },
     "execution_count": 33,
     "metadata": {},
     "output_type": "execute_result"
    }
   ],
   "source": [
    "cul_sh_res.pvalues"
   ]
  },
  {
   "cell_type": "code",
   "execution_count": 34,
   "id": "d2847bf6-ad25-43ed-ae2f-b0da8dea0575",
   "metadata": {},
   "outputs": [
    {
     "name": "stdout",
     "output_type": "stream",
     "text": [
      "Optimization terminated successfully.\n",
      "         Current function value: 0.086961\n",
      "         Iterations 9\n",
      "                           Logit Regression Results                           \n",
      "==============================================================================\n",
      "Dep. Variable:                      y   No. Observations:               134985\n",
      "Model:                          Logit   Df Residuals:                   134981\n",
      "Method:                           MLE   Df Model:                            3\n",
      "Date:                Thu, 08 May 2025   Pseudo R-squ.:                0.006934\n",
      "Time:                        11:19:20   Log-Likelihood:                -11738.\n",
      "converged:                       True   LL-Null:                       -11820.\n",
      "Covariance Type:            nonrobust   LLR p-value:                 2.609e-35\n",
      "==============================================================================\n",
      "                 coef    std err          z      P>|z|      [0.025      0.975]\n",
      "------------------------------------------------------------------------------\n",
      "x1            -0.3711      0.045     -8.165      0.000      -0.460      -0.282\n",
      "x2            -0.0404      0.070     -0.579      0.563      -0.177       0.096\n",
      "x3            -0.0485      0.067     -0.721      0.471      -0.180       0.083\n",
      "const         -3.6582      0.046    -80.109      0.000      -3.748      -3.569\n",
      "==============================================================================\n"
     ]
    }
   ],
   "source": [
    "cul_rasa_y = np.concatenate((rasa_y, cul_y))\n",
    "cul_rasa_x = np.concatenate((rasa_x, cul_x))\n",
    "cul_rasa_group = np.concatenate((np.zeros(rasa_x.shape), np.ones(cul_x.shape)))\n",
    "cul_rasa_int = np.multiply(cul_rasa_x, cul_rasa_group)\n",
    "X = np.vstack((cul_rasa_x, cul_rasa_group, cul_rasa_int, np.ones((cul_rasa_int.shape)))).T\n",
    "cul_rasa_mod = sm.Logit(cul_rasa_y, X)\n",
    "cul_rasa_res = cul_rasa_mod.fit()\n",
    "print(cul_rasa_res.summary())"
   ]
  },
  {
   "cell_type": "code",
   "execution_count": 35,
   "id": "106070c7-a7cc-4e22-b83d-19c962627be5",
   "metadata": {},
   "outputs": [
    {
     "data": {
      "text/plain": [
       "array([3.21758101e-16, 5.62920761e-01, 4.70724217e-01, 0.00000000e+00])"
      ]
     },
     "execution_count": 35,
     "metadata": {},
     "output_type": "execute_result"
    }
   ],
   "source": [
    "cul_rasa_res.pvalues"
   ]
  },
  {
   "cell_type": "code",
   "execution_count": null,
   "id": "144cc966-8350-4875-bb3c-8ae78c79ce36",
   "metadata": {},
   "outputs": [],
   "source": []
  }
 ],
 "metadata": {
  "kernelspec": {
   "display_name": "Python 3 (ipykernel)",
   "language": "python",
   "name": "python3"
  },
  "language_info": {
   "codemirror_mode": {
    "name": "ipython",
    "version": 3
   },
   "file_extension": ".py",
   "mimetype": "text/x-python",
   "name": "python",
   "nbconvert_exporter": "python",
   "pygments_lexer": "ipython3",
   "version": "3.11.9"
  }
 },
 "nbformat": 4,
 "nbformat_minor": 5
}
