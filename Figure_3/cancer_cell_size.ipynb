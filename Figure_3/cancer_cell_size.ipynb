{
 "cells": [
  {
   "cell_type": "code",
   "execution_count": 1,
   "id": "1533bd8e-2a26-4307-918c-f775c2dc3d35",
   "metadata": {},
   "outputs": [],
   "source": [
    "import numpy as np\n",
    "import matplotlib.pyplot as plt\n",
    "from occident.utils import load_deepcell_object"
   ]
  },
  {
   "cell_type": "markdown",
   "id": "103ce85d-f78b-45a1-b9b2-d1f24f6b28a3",
   "metadata": {},
   "source": [
    "## Set Preferences"
   ]
  },
  {
   "cell_type": "code",
   "execution_count": null,
   "id": "915d1160-eaa3-4d1d-9b38-9276c7ec3756",
   "metadata": {},
   "outputs": [],
   "source": [
    "conditions = ['Safe Harbor KO', 'RASA2 KO', 'CUL5 KO']\n",
    "colors = {'Safe Harbor KO': '#a9a9a9', \n",
    "          'RASA2 KO': '#800000',\n",
    "          'CUL5 KO': '#000075'}\n"
   ]
  },
  {
   "cell_type": "code",
   "execution_count": null,
   "id": "b6e71f9c-52a6-49cc-8c18-a7d5e525a10f",
   "metadata": {},
   "outputs": [],
   "source": [
    "SH = ['B3', 'B4', 'B5', 'B6']\n",
    "RASA2 = ['E3', 'E4', 'E5', 'E6']\n",
    "CUL5 = ['B7', 'B8', 'B9', 'B10']"
   ]
  },
  {
   "cell_type": "code",
   "execution_count": null,
   "id": "62840592-9ac6-4601-bff5-03fcea009a10",
   "metadata": {},
   "outputs": [],
   "source": [
    "lower_lim = 50\n",
    "upper_lim = 350"
   ]
  },
  {
   "cell_type": "code",
   "execution_count": null,
   "id": "2d61b352-f4c9-4538-b5b9-a61e34b11494",
   "metadata": {},
   "outputs": [],
   "source": [
    "data_dir = '/gladstone/engelhardt/lab/MarsonLabIncucyteData/AnalysisFiles/CarnevaleRepStim/updated_full'"
   ]
  },
  {
   "cell_type": "markdown",
   "id": "2fbddff4-3503-403f-9d51-82d83d8f8c45",
   "metadata": {},
   "source": [
    "## Get cancer cell sizes from segmentations"
   ]
  },
  {
   "cell_type": "code",
   "execution_count": null,
   "id": "4b48adb3-fbcb-4f55-9891-db1b38455335",
   "metadata": {},
   "outputs": [],
   "source": [
    "def get_all_sizes(dcl_ob):\n",
    "    cancer_cells = dcl_ob['y'][1,:,:,0,:]\n",
    "    sizes = np.concatenate([np.unique(cancer_cells[i],return_counts = True)[1][1:] for i in range(lower_lim, upper_lim)])\n",
    "    return sizes"
   ]
  },
  {
   "cell_type": "code",
   "execution_count": 7,
   "id": "23cafd28-7a1b-4de9-8843-bf5d6e3e5da2",
   "metadata": {},
   "outputs": [],
   "source": [
    "all_sh = []\n",
    "for i in range(4):\n",
    "    sh_ob = load_deepcell_object(data_dir + '/cart_' + SH[i] + '_start_0_end_350_nuc_15_cyto_75.zip')\n",
    "    all_sh.append(get_all_sizes(sh_ob))\n",
    "all_sh = np.concatenate(all_sh)"
   ]
  },
  {
   "cell_type": "code",
   "execution_count": 8,
   "id": "72841440-7784-4f21-9d91-f51f9e07f9b1",
   "metadata": {},
   "outputs": [],
   "source": [
    "all_rasa = []\n",
    "for i in range(4):\n",
    "    sh_ob = load_deepcell_object(data_dir + '/cart_' + RASA2[i] + '_start_0_end_350_nuc_15_cyto_75.zip')\n",
    "    all_rasa.append(get_all_sizes(sh_ob))\n",
    "all_rasa = np.concatenate(all_rasa)"
   ]
  },
  {
   "cell_type": "code",
   "execution_count": 9,
   "id": "77385640-2228-4260-b785-ba09e7df167b",
   "metadata": {},
   "outputs": [],
   "source": [
    "all_cul = []\n",
    "for i in range(4):\n",
    "    sh_ob = load_deepcell_object(data_dir + '/cart_' + CUL5[i] + '_start_0_end_350_nuc_15_cyto_75.zip')\n",
    "    all_cul.append(get_all_sizes(sh_ob))\n",
    "all_cul = np.concatenate(all_cul)"
   ]
  },
  {
   "cell_type": "code",
   "execution_count": null,
   "id": "4f33982e-4570-472c-ba5f-337fede6ed2f",
   "metadata": {},
   "outputs": [],
   "source": [
    "factor = 746/599 # convert pixels to microns"
   ]
  },
  {
   "cell_type": "code",
   "execution_count": 11,
   "id": "45a8bf04-b396-4d9a-9cf5-58b9c414197a",
   "metadata": {},
   "outputs": [
    {
     "data": {
      "image/png": "[encoded data removed]",
      "text/plain": [
       "<Figure size 700x1000 with 1 Axes>"
      ]
     },
     "metadata": {},
     "output_type": "display_data"
    }
   ],
   "source": [
    "fig, ax = plt.subplots(1,1,figsize = (7,10))\n",
    "ax.bar(np.arange(3),\n",
    "       factor**2 * np.array([np.mean(all_sh), np.mean(all_rasa), np.mean(all_cul)]),\n",
    "       yerr = factor**2 * 1.96 * np.array([np.std(all_sh)/np.sqrt(len(all_sh)), np.std(all_rasa)/np.sqrt(len(all_rasa)), np.std(all_cul)/np.sqrt(len(all_cul))]),\n",
    "       capsize = 5,\n",
    "       color = [colors[i] for i in conditions])\n",
    "ax.set_xticks(np.arange(3), conditions)\n",
    "ax.set_xlabel('Condition')\n",
    "#ax.set_ylim([1000, 1600])\n",
    "ax.spines['top'].set_visible(False)\n",
    "ax.spines['right'].set_visible(False)\n",
    "ax.set_ylabel('Cancer Cell Size (sq. microns)')\n",
    "plt.show()"
   ]
  },
  {
   "cell_type": "markdown",
   "id": "64e4ecf7-328c-40db-b786-83fcac9d17cb",
   "metadata": {},
   "source": [
    "## Compared with two-sided t-test of the mean"
   ]
  },
  {
   "cell_type": "code",
   "execution_count": 12,
   "id": "ad96fbc7-d190-41bd-accd-94f01d92a124",
   "metadata": {},
   "outputs": [],
   "source": [
    "from scipy.stats import ttest_ind"
   ]
  },
  {
   "cell_type": "markdown",
   "id": "a701583c-2f22-40c3-9281-a32bc7d06d75",
   "metadata": {},
   "source": [
    "### SH/RASA"
   ]
  },
  {
   "cell_type": "code",
   "execution_count": 13,
   "id": "fefa3260-cc27-4b10-b8d9-ab95edd6eff6",
   "metadata": {},
   "outputs": [
    {
     "data": {
      "text/plain": [
       "TtestResult(statistic=15.16041918910148, pvalue=6.775641858047901e-52, df=284193.0)"
      ]
     },
     "execution_count": 13,
     "metadata": {},
     "output_type": "execute_result"
    }
   ],
   "source": [
    "ttest_ind(all_sh, all_rasa)"
   ]
  },
  {
   "cell_type": "markdown",
   "id": "ff0b16b0-95d0-4ff4-bf73-95dc3e64a0cb",
   "metadata": {},
   "source": [
    "### SH/CUL"
   ]
  },
  {
   "cell_type": "code",
   "execution_count": 14,
   "id": "a8e7a52c-8471-4f08-91fd-46b31b52e70f",
   "metadata": {},
   "outputs": [
    {
     "data": {
      "text/plain": [
       "TtestResult(statistic=2.2718692139726557, pvalue=0.02309519779407838, df=268668.0)"
      ]
     },
     "execution_count": 14,
     "metadata": {},
     "output_type": "execute_result"
    }
   ],
   "source": [
    "ttest_ind(all_sh, all_cul)"
   ]
  },
  {
   "cell_type": "markdown",
   "id": "d677b571-546d-46b5-8ac2-445c5501177d",
   "metadata": {},
   "source": [
    "### RASA/CUL"
   ]
  },
  {
   "cell_type": "code",
   "execution_count": 15,
   "id": "46216a3e-3520-48f4-a2a4-261de9eaf13d",
   "metadata": {},
   "outputs": [
    {
     "data": {
      "text/plain": [
       "TtestResult(statistic=-13.470279136412081, pvalue=2.415018307582036e-41, df=262861.0)"
      ]
     },
     "execution_count": 15,
     "metadata": {},
     "output_type": "execute_result"
    }
   ],
   "source": [
    "ttest_ind(all_rasa, all_cul)"
   ]
  },
  {
   "cell_type": "code",
   "execution_count": null,
   "id": "7ca288e3-4d70-442f-8f65-1677720c55b9",
   "metadata": {},
   "outputs": [],
   "source": []
  }
 ],
 "metadata": {
  "kernelspec": {
   "display_name": "Python 3 (ipykernel)",
   "language": "python",
   "name": "python3"
  }
 },
 "nbformat": 4,
 "nbformat_minor": 5
}
