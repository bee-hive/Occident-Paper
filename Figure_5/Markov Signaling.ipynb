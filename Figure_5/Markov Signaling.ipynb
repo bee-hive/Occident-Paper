{
 "cells": [
  {
   "cell_type": "code",
   "execution_count": 1,
   "id": "8d142d3d-d330-422b-9de3-e5f13b5661cf",
   "metadata": {},
   "outputs": [],
   "source": [
    "import numpy as np\n",
    "import matplotlib.pyplot as plt"
   ]
  },
  {
   "cell_type": "markdown",
   "id": "15688729-d6e2-48db-9a51-50f1debde766",
   "metadata": {},
   "source": [
    "## Set prefrences"
   ]
  },
  {
   "cell_type": "code",
   "execution_count": 2,
   "id": "bf2e1081-d097-4668-af0b-c02cde7e2a6d",
   "metadata": {},
   "outputs": [],
   "source": [
    "SH = ['B3', 'B4', 'B5', 'B6']\n",
    "RASA2 = ['E3', 'E4', 'E5', 'E6']\n",
    "CUL5 = ['B7', 'B8', 'B9', 'B10']\n",
    "conditions = ['Safe Harbor KO', 'RASA2 KO', 'CUL5 KO']\n",
    "colors = {'Safe Harbor KO': '#a9a9a9', \n",
    "          'RASA2 KO': '#800000',\n",
    "          'CUL5 KO': '#000075'}\n"
   ]
  },
  {
   "cell_type": "code",
   "execution_count": 3,
   "id": "8452d4e1",
   "metadata": {},
   "outputs": [],
   "source": [
    "data_dir = '/gladstone/engelhardt/lab/MarsonLabIncucyteData/AnalysisFiles/CarnevaleRepStim/updated_full'"
   ]
  },
  {
   "cell_type": "markdown",
   "id": "537e9d36-11a9-4e1c-ae0d-b3139e015515",
   "metadata": {},
   "source": [
    "## Comput markov transition matrix"
   ]
  },
  {
   "cell_type": "markdown",
   "id": "894c5775-f5f8-4717-ac00-d58388fadfcc",
   "metadata": {},
   "source": [
    "### For each well, split into regions and get counts in each region at each time point"
   ]
  },
  {
   "cell_type": "code",
   "execution_count": 4,
   "id": "8dcd940c-af0b-4468-9631-bd482fe9f121",
   "metadata": {},
   "outputs": [],
   "source": [
    "def get_box_wise_counts(well, boxsize = 50):\n",
    "    tcenters = np.load(data_dir + '/centroid-arrays/0_to_350/' + well + '-T-cells.npy')\n",
    "    ccenters = np.load(data_dir + '/centroid-arrays/0_to_350/' + well + '-cancer-cells.npy')\n",
    "    row_width = np.floor(600/boxsize).astype(int)\n",
    "    n_boxes = row_width ** 2\n",
    "\n",
    "    trow_col = np.floor(tcenters/boxsize)\n",
    "    tbox_ids = trow_col[:,:,0] * row_width + trow_col[:,:,1]\n",
    "\n",
    "    crow_col = np.floor(ccenters/boxsize)\n",
    "    cbox_ids = crow_col[:,:,0] * row_width + crow_col[:,:,1]\n",
    "\n",
    "    t_box_array = np.zeros((350, n_boxes, 3)) # time by n boxes by [already there, new t cell, from another box]\n",
    "    for i in range(1, 350):\n",
    "        for box in range(n_boxes):\n",
    "            ts_in_box_i = np.where(tbox_ids[:,i] == box)[0]\n",
    "            if len(ts_in_box_i) == 0:\n",
    "                continue\n",
    "            for tcell in ts_in_box_i:\n",
    "                if np.isnan(tbox_ids[tcell, i -1]):\n",
    "                    t_box_array[i, box, 1] += 1\n",
    "                elif tbox_ids[tcell, i-1] == box:\n",
    "                    t_box_array[i, box, 0] += 1\n",
    "                else:\n",
    "                    t_box_array[i, box, 2] += 1\n",
    "    for box in range(n_boxes):\n",
    "        ts_in_box_0 = np.where(tbox_ids[:,0] == box)[0]\n",
    "        for tcell in ts_in_box_0:\n",
    "            t_box_array[0, box, 0] += 1\n",
    "\n",
    "    c_box_array = np.zeros((350, n_boxes, 3))\n",
    "    for i in range(1, 350):\n",
    "        for box in range(n_boxes):\n",
    "            cs_in_box_i = np.where(cbox_ids[:,i] == box)[0]\n",
    "            if len(cs_in_box_i) == 0:\n",
    "                continue\n",
    "            for ccell in cs_in_box_i:\n",
    "                if np.isnan(cbox_ids[ccell, i -1]):\n",
    "                    c_box_array[i, box, 1] += 1\n",
    "                elif cbox_ids[ccell, i-1] == box:\n",
    "                    c_box_array[i, box, 0] += 1\n",
    "                else:\n",
    "                    c_box_array[i, box, 2] += 1\n",
    "    for box in range(n_boxes):\n",
    "        cs_in_box_0 = np.where(cbox_ids[:,0] == box)[0]\n",
    "        for ccell in cs_in_box_0:\n",
    "            c_box_array[0, box, 0] += 1\n",
    "    return t_box_array, c_box_array"
   ]
  },
  {
   "cell_type": "code",
   "execution_count": 5,
   "id": "af4d6f91-88a7-4eeb-b2d8-fda5c3be610d",
   "metadata": {},
   "outputs": [],
   "source": [
    "sh_arrays = [get_box_wise_counts(well) for well in SH]"
   ]
  },
  {
   "cell_type": "code",
   "execution_count": 6,
   "id": "a00ec841-b6b4-4e23-b274-9945cf1bddc1",
   "metadata": {},
   "outputs": [],
   "source": [
    "sh_t_boxes = np.concatenate([sh_arrays[i][0] for i in range(4)], axis = 1)\n",
    "sh_c_boxes = np.concatenate([sh_arrays[i][1] for i in range(4)], axis = 1)"
   ]
  },
  {
   "cell_type": "code",
   "execution_count": 7,
   "id": "091ca587-7682-4a17-95e3-75823f0bc47c",
   "metadata": {},
   "outputs": [],
   "source": [
    "rasa_arrays = [get_box_wise_counts(well) for well in RASA2]\n",
    "rasa_t_boxes = np.concatenate([rasa_arrays[i][0] for i in range(4)], axis = 1)\n",
    "rasa_c_boxes = np.concatenate([rasa_arrays[i][1] for i in range(4)], axis = 1)"
   ]
  },
  {
   "cell_type": "code",
   "execution_count": 8,
   "id": "a1368251-97d8-4f05-b22e-2105f01a47e5",
   "metadata": {},
   "outputs": [],
   "source": [
    "cul_arrays = [get_box_wise_counts(well) for well in CUL5]\n",
    "cul_t_boxes = np.concatenate([cul_arrays[i][0] for i in range(4)], axis = 1)\n",
    "cul_c_boxes = np.concatenate([cul_arrays[i][1] for i in range(4)], axis = 1)"
   ]
  },
  {
   "cell_type": "code",
   "execution_count": 9,
   "id": "dbb2cffa-9122-4547-9e32-e3725cb85e55",
   "metadata": {},
   "outputs": [],
   "source": [
    "tmax = int(max([np.max(sh_t_boxes), np.max(rasa_t_boxes), np.max(cul_t_boxes)]))\n",
    "cmax = int(max([np.max(sh_c_boxes), np.max(rasa_c_boxes), np.max(cul_c_boxes)]))"
   ]
  },
  {
   "cell_type": "code",
   "execution_count": 10,
   "id": "2761bab4-6e12-4a14-a1ee-1ba49482f5f9",
   "metadata": {},
   "outputs": [],
   "source": [
    "lower_lim = 50\n",
    "upper_lim = 350"
   ]
  },
  {
   "cell_type": "code",
   "execution_count": 11,
   "id": "eae3cff1-46b4-4051-8e11-00a9541ede5b",
   "metadata": {},
   "outputs": [],
   "source": [
    "sh_markov = np.zeros((tmax + 1, cmax + 1))"
   ]
  },
  {
   "cell_type": "markdown",
   "id": "35ba3af7-2eed-4ca4-b6b3-c0c6f69a9805",
   "metadata": {},
   "source": [
    "### Convert counts for each region by time to markov transition matrix"
   ]
  },
  {
   "cell_type": "code",
   "execution_count": 12,
   "id": "bacc921b-14ef-4002-8467-77cc6637fdec",
   "metadata": {},
   "outputs": [],
   "source": [
    "def get_markov(t_boxes, c_boxes, t0 = 1, c0 = 1):\n",
    "    sum_box = np.zeros((2, t_boxes.shape[0], t_boxes.shape[1]))\n",
    "    sum_box[0] = np.sum(t_boxes, axis = 2)\n",
    "    sum_box[1] = np.sum(c_boxes, axis = 2)\n",
    "\n",
    "    markov = np.zeros((tmax + 1, cmax + 1))\n",
    "    is_tracked = np.zeros((tmax + 1, cmax + 1))\n",
    "    ixes = np.where(np.logical_and(sum_box[0] == t0, sum_box[1] == c0))\n",
    "    for i in range(len(ixes[0])):\n",
    "        time = ixes[0][i]\n",
    "        if time == 349:\n",
    "            continue\n",
    "        box = ixes[1][i]\n",
    "        t1 = int(sum_box[0][time + 1, box])\n",
    "        c1 = int(sum_box[1][time + 1, box])\n",
    "        markov[t1, c1] += 1\n",
    "        is_tracked[t1, c1] += t_boxes[time + 1, box, 2]\n",
    "    return markov, is_tracked"
   ]
  },
  {
   "cell_type": "markdown",
   "id": "9807b097-d532-4eaa-9329-cb3cbdb3b2b6",
   "metadata": {},
   "source": [
    "### Transition from $\\tau = 1, \\mathcal{C} = 1$"
   ]
  },
  {
   "cell_type": "code",
   "execution_count": 13,
   "id": "2bb97441-95a4-4359-b4ab-cde4a6abbe0a",
   "metadata": {},
   "outputs": [],
   "source": [
    "sh_1_1, sh_is_tracked = get_markov(sh_t_boxes, sh_c_boxes)\n",
    "rasa_1_1, rasa_is_tracked = get_markov(rasa_t_boxes, rasa_c_boxes)\n",
    "cul_1_1, cul_is_tracked = get_markov(cul_t_boxes, cul_c_boxes)"
   ]
  },
  {
   "cell_type": "code",
   "execution_count": 14,
   "id": "b8b4cb62-3f39-4eaa-ba5f-5b959288ecd7",
   "metadata": {},
   "outputs": [],
   "source": [
    "def norm(markov):\n",
    "    return markov/np.sum(markov)"
   ]
  },
  {
   "cell_type": "code",
   "execution_count": null,
   "id": "cf906c05-7739-4bcb-8fd3-6312ff1ecbf1",
   "metadata": {},
   "outputs": [],
   "source": []
  },
  {
   "cell_type": "code",
   "execution_count": 15,
   "id": "d58d9a04-97c6-4253-96f1-8a3e83675ea2",
   "metadata": {},
   "outputs": [
    {
     "data": {
      "image/png": "[encoded data removed]",
      "text/plain": [
       "<Figure size 2100x700 with 4 Axes>"
      ]
     },
     "metadata": {},
     "output_type": "display_data"
    }
   ],
   "source": [
    "max_t_show = 5\n",
    "max_c_show = 4\n",
    "\n",
    "fig, ax = plt.subplots(1,3, sharey = True, figsize = (21,7))\n",
    "im = ax[0].imshow(100 * norm(sh_1_1)[:max_t_show, :max_c_show], \n",
    "             cmap = 'Greens', vmin = 0, vmax = 40)\n",
    "ax[0].set_title('Safe Harbor KO', fontsize = 24)\n",
    "ax[1].imshow(100 * norm(rasa_1_1)[:max_t_show, :max_c_show], \n",
    "             cmap = 'Greens', vmin = 0, vmax = 40)\n",
    "ax[1].set_title('RASA2 KO', fontsize = 24)\n",
    "ax[2].imshow(100 * norm(cul_1_1)[:max_t_show, :max_c_show], \n",
    "             cmap = 'Greens', vmin = 0, vmax = 40)\n",
    "ax[2].set_title('CUL5 KO', fontsize = 24)\n",
    "ax[0].set_ylabel('T-cells at $t + 1$', fontsize = 24)\n",
    "ax[1].set_xlabel('Cancer cells at $t + 1$', fontsize = 24)\n",
    "\n",
    "for i in range(0,3):\n",
    "    ax[i].set_xticks(np.arange(0, max_c_show))\n",
    "    \n",
    "fig.colorbar(im, ax = ax[2]) #, shrink = 0.9)\n",
    "plt.savefig('./figs/markov_nodiff.svg') #_nocbar.svg')\n",
    "plt.show()\n"
   ]
  },
  {
   "cell_type": "code",
   "execution_count": 16,
   "id": "12dec760-3eae-47ce-b8b4-dc6cec8e7211",
   "metadata": {},
   "outputs": [
    {
     "data": {
      "image/png": "[encoded data removed]",
      "text/plain": [
       "<Figure size 2100x700 with 4 Axes>"
      ]
     },
     "metadata": {},
     "output_type": "display_data"
    }
   ],
   "source": [
    "max_t_show = 5\n",
    "max_c_show = 4\n",
    "\n",
    "base = norm(sh_1_1)[:max_t_show, :max_c_show]\n",
    "\n",
    "rasa_plot = norm(rasa_1_1)[:max_t_show, :max_c_show] - base\n",
    "cul_plot = norm(cul_1_1)[:max_t_show, :max_c_show] - base\n",
    "vmax = 100 * max(np.max(np.abs(cul_plot)), np.max(np.abs(rasa_plot)))\n",
    "\n",
    "\n",
    "fig, ax = plt.subplots(1,3, figsize = (21,7), layout = 'constrained')\n",
    "im0 = ax[0].imshow(100 * norm(sh_1_1)[:max_t_show, :max_c_show], \n",
    "             cmap = 'Greens')\n",
    "#fig.colorbar(im0, ax = ax[0]) #, shrink = 0.9)\n",
    "ax[0].set_title('Safe Harbor KO')\n",
    "ax[1].imshow(100 * rasa_plot, \n",
    "             cmap = 'seismic', vmin = -vmax, vmax = vmax)\n",
    "ax[1].set_title('RASA2 KO $\\Delta$')\n",
    "im = ax[2].imshow(100 * cul_plot, \n",
    "             cmap = 'seismic', vmin = -vmax, vmax = vmax)\n",
    "ax[2].set_title('CUL5 KO $\\Delta$')\n",
    "fig.colorbar(im, ax = ax[0]) #, shrink = 0.9)\n",
    "ax[0].set_ylabel('T-cells at $t + 1$')\n",
    "ax[1].set_xlabel('Cancer cells at $t + 1$')\n",
    "\n",
    "for i in range(0,3):\n",
    "    ax[i].set_xticks(np.arange(0, max_c_show))\n",
    "    \n",
    "plt.savefig('./figs/markov_image.pdf')\n",
    "#plt.show()"
   ]
  },
  {
   "cell_type": "code",
   "execution_count": 17,
   "id": "26529d79-0f17-4b0b-98a3-ac2cb9717422",
   "metadata": {},
   "outputs": [],
   "source": [
    "from scipy.stats import norm as norm_rv"
   ]
  },
  {
   "cell_type": "code",
   "execution_count": 18,
   "id": "b8d8f989-c472-4ac6-bb06-690abc05ddbf",
   "metadata": {},
   "outputs": [
    {
     "data": {
      "image/png": "[encoded data removed]",
      "text/plain": [
       "<Figure size 1000x1000 with 1 Axes>"
      ]
     },
     "metadata": {},
     "output_type": "display_data"
    }
   ],
   "source": [
    "fig, ax = plt.subplots(1,1,figsize = (10,10))\n",
    "\n",
    "y0 = np.array([norm(sh_1_1)[2,1], norm(rasa_1_1)[2,1], norm(cul_1_1)[2,1]])\n",
    "pcts = np.array([sh_is_tracked[2,1]/sh_1_1[2,1], rasa_is_tracked[2,1]/rasa_1_1[2,1], cul_is_tracked[2,1]/cul_1_1[2,1]])\n",
    "n = np.array([np.sum(sh_1_1), np.sum(rasa_1_1), np.sum(cul_1_1)])\n",
    "yerr = 1.96 * np.sqrt(np.divide(np.multiply(y0, 1 - y0),n))\n",
    "\n",
    "nbottom = np.array([sh_1_1[2,1], rasa_1_1[2,1], cul_1_1[2,1]])\n",
    "yerr_bottom = 1.96 * np.sqrt(np.divide(np.multiply(pcts, 1 - pcts),n))\n",
    "yerr_bottom_plot = np.multiply(yerr_bottom, pcts)\n",
    "\n",
    "\n",
    "bottom = np.multiply(pcts, y0)\n",
    "heights = y0 - bottom\n",
    "\n",
    "\n",
    "ax.bar(np.arange(3) - 0.2, bottom, \n",
    "       yerr = yerr_bottom, capsize = 5, width = 0.4,\n",
    "       color = [colors[i] for i in conditions], label = 'Signaling')\n",
    "ax.bar(np.arange(3) + 0.2, heights, \n",
    "       yerr = yerr, capsize = 5, width = 0.4,\n",
    "       bottom = 0, color = [colors[i] for i in conditions], alpha = 0.3, label = 'Proliferation')\n",
    "ax.set_xticks(np.arange(3), conditions)\n",
    "ax.set_xlabel('Condition')\n",
    "plt.ylabel('p(2 tcell, 1 cancer cell | 1 t cell, 1 cancer cell)')\n",
    "plt.legend()\n",
    "plt.savefig('./figs/markov_signaling_1_to_2_side.pdf')\n",
    "\n",
    "plt.show()"
   ]
  },
  {
   "cell_type": "code",
   "execution_count": 19,
   "id": "1e45b922-2439-4e46-bbce-efa6ccd6a2d7",
   "metadata": {},
   "outputs": [
    {
     "data": {
      "text/plain": [
       "array([0.0931749 , 0.10901177, 0.11847108])"
      ]
     },
     "execution_count": 19,
     "metadata": {},
     "output_type": "execute_result"
    }
   ],
   "source": [
    "heights"
   ]
  },
  {
   "cell_type": "code",
   "execution_count": 20,
   "id": "209ba6e7-e19a-4bdd-992c-88391fba5d67",
   "metadata": {},
   "outputs": [
    {
     "name": "stdout",
     "output_type": "stream",
     "text": [
      "Safe Harbor KO RASA2 KO\n",
      "z: -9.317013625591242\n",
      "p: 1.1966085936416659e-20\n",
      " \n",
      "Safe Harbor KO CUL5 KO\n",
      "z: -12.08853353487721\n",
      "p: 1.2143488953722863e-33\n",
      " \n",
      "RASA2 KO CUL5 KO\n",
      "z: -2.9510636001281667\n",
      "p: 0.0031668170136472584\n",
      " \n"
     ]
    }
   ],
   "source": [
    "for i in range(3):\n",
    "    for j in range(i+1,3):\n",
    "        print(conditions[i] + ' ' + conditions[j])\n",
    "        numerator = y0[i] - y0[j]\n",
    "        denominator = y0[i] * (1 - y0[i])/n[i] + y0[j] * (1 - y0[j])/n[j]\n",
    "        z = numerator/np.sqrt(denominator)\n",
    "        print('z: ' + str(z))\n",
    "        print('p: ' + str(norm_rv.sf(abs(z)) * 2))\n",
    "        print(' ' )"
   ]
  },
  {
   "cell_type": "code",
   "execution_count": 21,
   "id": "84711b7f-7640-4eff-8cca-530c00935378",
   "metadata": {},
   "outputs": [
    {
     "name": "stdout",
     "output_type": "stream",
     "text": [
      "Safe Harbor KO RASA2 KO\n",
      "z: -6.504337326156994\n",
      "p: 7.803661011637753e-11\n",
      " \n",
      "Safe Harbor KO CUL5 KO\n",
      "z: -10.01986947075611\n",
      "p: 1.2466748226100879e-23\n",
      " \n",
      "RASA2 KO CUL5 KO\n",
      "z: -3.6521103417741583\n",
      "p: 0.0002600940758749022\n",
      " \n"
     ]
    }
   ],
   "source": [
    "for i in range(3):\n",
    "    for j in range(i+1,3):\n",
    "        print(conditions[i] + ' ' + conditions[j])\n",
    "        numerator = heights[i] - heights[j]\n",
    "        denominator = heights[i] * (1 - heights[i])/n[i] + heights[j] * (1 - heights[j])/n[j]\n",
    "        z = numerator/np.sqrt(denominator)\n",
    "        print('z: ' + str(z))\n",
    "        print('p: ' + str(norm_rv.sf(abs(z)) * 2))\n",
    "        print(' ' )"
   ]
  },
  {
   "cell_type": "code",
   "execution_count": 22,
   "id": "71c2a177-36e1-405c-99e7-388a00542787",
   "metadata": {},
   "outputs": [
    {
     "name": "stdout",
     "output_type": "stream",
     "text": [
      "Safe Harbor KO RASA2 KO\n",
      "z: -7.8546273164056855\n",
      "p: 4.009625942263286e-15\n",
      " \n",
      "Safe Harbor KO CUL5 KO\n",
      "z: -6.737604816376996\n",
      "p: 1.6101878179213865e-11\n",
      " \n",
      "RASA2 KO CUL5 KO\n",
      "z: 0.9976084634347626\n",
      "p: 0.31846925547117233\n",
      " \n"
     ]
    }
   ],
   "source": [
    "for i in range(3):\n",
    "    for j in range(i+1,3):\n",
    "        print(conditions[i] + ' ' + conditions[j])\n",
    "        numerator = bottom[i] - bottom[j]\n",
    "        denominator = bottom[i] * (1 - bottom[i])/n[i] + bottom[j] * (1 - bottom[j])/n[j]\n",
    "        z = numerator/np.sqrt(denominator)\n",
    "        print('z: ' + str(z))\n",
    "        print('p: ' + str(norm_rv.sf(abs(z)) * 2))\n",
    "        print(' ' )"
   ]
  },
  {
   "cell_type": "code",
   "execution_count": 23,
   "id": "8caa3e3f-3c27-477a-8505-a7f0c7b8720a",
   "metadata": {},
   "outputs": [],
   "source": [
    "y0 = np.array([np.sum(norm(sh_1_1)[:1,]), np.sum(norm(rasa_1_1)[:1,]), np.sum(norm(cul_1_1)[:1,])])\n",
    "yerr = 1.96 * np.sqrt(np.divide(np.multiply(y0, 1 - y0),n))"
   ]
  },
  {
   "cell_type": "code",
   "execution_count": 24,
   "id": "6cfe1985-8c97-4daf-8e39-6b0d8166a11f",
   "metadata": {},
   "outputs": [
    {
     "name": "stdout",
     "output_type": "stream",
     "text": [
      "Safe Harbor KO RASA2 KO\n",
      "z: 8.108206711708792\n",
      "p: 5.137228842027778e-16\n",
      " \n",
      "Safe Harbor KO CUL5 KO\n",
      "z: 7.4216800110960826\n",
      "p: 1.1564393910064586e-13\n",
      " \n",
      "RASA2 KO CUL5 KO\n",
      "z: -0.5712368176018635\n",
      "p: 0.5678391240931113\n",
      " \n"
     ]
    }
   ],
   "source": [
    "for i in range(3):\n",
    "    for j in range(i+1,3):\n",
    "        print(conditions[i] + ' ' + conditions[j])\n",
    "        numerator = y0[i] - y0[j]\n",
    "        denominator = y0[i] * (1 - y0[i])/n[i] + y0[j] * (1 - y0[j])/n[j]\n",
    "        z = numerator/np.sqrt(denominator)\n",
    "        print('z: ' + str(z))\n",
    "        print('p: ' + str(norm_rv.sf(abs(z)) * 2))\n",
    "        print(' ' )"
   ]
  },
  {
   "cell_type": "markdown",
   "id": "fdc4ed8c-c669-4ba2-99b0-7d974971b6c7",
   "metadata": {},
   "source": [
    "## Calculate dwell time as negative binomial mean + 8 minutes given for calling an interaction"
   ]
  },
  {
   "cell_type": "code",
   "execution_count": 25,
   "id": "16c6dd9c-f318-4899-817e-64f2cadec40b",
   "metadata": {},
   "outputs": [
    {
     "data": {
      "text/plain": [
       "array([0.31169734, 0.28176689, 0.28386478])"
      ]
     },
     "execution_count": 25,
     "metadata": {},
     "output_type": "execute_result"
    }
   ],
   "source": [
    "y0"
   ]
  },
  {
   "cell_type": "code",
   "execution_count": 26,
   "id": "00771f73-2fb1-4f23-bfab-1fc2d04c249d",
   "metadata": {},
   "outputs": [
    {
     "data": {
      "text/plain": [
       "array([0.00522303, 0.00500666, 0.00517178])"
      ]
     },
     "execution_count": 26,
     "metadata": {},
     "output_type": "execute_result"
    }
   ],
   "source": [
    "yerr"
   ]
  },
  {
   "cell_type": "code",
   "execution_count": 27,
   "id": "34490a7e-cf21-4fe5-823a-4b67004bf2ba",
   "metadata": {},
   "outputs": [
    {
     "data": {
      "text/plain": [
       "array([16.83296167, 18.19613228, 18.09121622])"
      ]
     },
     "execution_count": 27,
     "metadata": {},
     "output_type": "execute_result"
    }
   ],
   "source": [
    "4 * (1 - y0)/y0 + 8"
   ]
  },
  {
   "cell_type": "code",
   "execution_count": 28,
   "id": "6f42783f-c8e7-4705-a4ce-4d0a78abc7a7",
   "metadata": {},
   "outputs": [],
   "source": [
    "markov_dwell = 8 + np.array([8.83296167, 10.19613228, 10.09121622])"
   ]
  },
  {
   "cell_type": "code",
   "execution_count": 29,
   "id": "48a44b23-da79-4b5b-b30b-ded291b5692c",
   "metadata": {},
   "outputs": [],
   "source": [
    "upper = 8 + 4 * (1 - (y0 + yerr))/(y0 + yerr)\n",
    "lower = 8 + 4 * (1 - (y0 - yerr))/(y0 - yerr)"
   ]
  },
  {
   "cell_type": "code",
   "execution_count": 30,
   "id": "e7b019ec-1740-4d2d-95f1-228507556200",
   "metadata": {},
   "outputs": [
    {
     "data": {
      "text/plain": [
       "array([16.62146703, 17.94828805, 17.8390796 ])"
      ]
     },
     "execution_count": 30,
     "metadata": {},
     "output_type": "execute_result"
    }
   ],
   "source": [
    "upper"
   ]
  },
  {
   "cell_type": "code",
   "execution_count": 31,
   "id": "a39d1755-0c64-40c9-a5f7-842fe084500e",
   "metadata": {},
   "outputs": [
    {
     "data": {
      "text/plain": [
       "array([16.83296167, 18.19613228, 18.09121622])"
      ]
     },
     "execution_count": 31,
     "metadata": {},
     "output_type": "execute_result"
    }
   ],
   "source": [
    "markov_dwell"
   ]
  },
  {
   "cell_type": "code",
   "execution_count": 32,
   "id": "caba9c76-5477-4df9-a282-ed23ead31c90",
   "metadata": {},
   "outputs": [
    {
     "data": {
      "text/plain": [
       "array([17.05166501, 18.45294364, 18.35271077])"
      ]
     },
     "execution_count": 32,
     "metadata": {},
     "output_type": "execute_result"
    }
   ],
   "source": [
    "lower"
   ]
  }
 ],
 "metadata": {
  "kernelspec": {
   "display_name": "Python 3 (ipykernel)",
   "language": "python",
   "name": "python3"
  },
  "language_info": {
   "codemirror_mode": {
    "name": "ipython",
    "version": 3
   },
   "file_extension": ".py",
   "mimetype": "text/x-python",
   "name": "python",
   "nbconvert_exporter": "python",
   "pygments_lexer": "ipython3",
   "version": "3.9.21"
  }
 },
 "nbformat": 4,
 "nbformat_minor": 5
}
